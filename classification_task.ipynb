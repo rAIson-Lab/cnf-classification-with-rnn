{
 "cells": [
  {
   "cell_type": "code",
   "execution_count": 12,
   "metadata": {},
   "outputs": [],
   "source": [
    "import pickle\n",
    "\n",
    "import numpy as np\n",
    "import torch\n",
    "import torch.nn as nn\n",
    "import torch.nn.functional as F\n",
    "import torch.optim as optim\n",
    "\n",
    "from torch.utils.data import Dataset, DataLoader\n",
    "from torch.nn import Embedding, RNN\n",
    "from sklearn.model_selection import train_test_split\n",
    "from torch.nn.utils.rnn import pad_sequence, pack_padded_sequence, pad_packed_sequence"
   ]
  },
  {
   "cell_type": "markdown",
   "metadata": {},
   "source": [
    "# Set any global values"
   ]
  },
  {
   "cell_type": "code",
   "execution_count": 13,
   "metadata": {},
   "outputs": [
    {
     "data": {
      "text/plain": [
       "<torch._C.Generator at 0x7f9288233810>"
      ]
     },
     "execution_count": 13,
     "metadata": {},
     "output_type": "execute_result"
    }
   ],
   "source": [
    "torch.manual_seed(1)"
   ]
  },
  {
   "cell_type": "code",
   "execution_count": 14,
   "metadata": {},
   "outputs": [
    {
     "name": "stdout",
     "output_type": "stream",
     "text": [
      "Using cuda device\n"
     ]
    }
   ],
   "source": [
    "device = (\n",
    "    \"cuda\"\n",
    "    if torch.cuda.is_available()\n",
    "    else \"mps\"\n",
    "    if torch.backends.mps.is_available()\n",
    "    else \"cpu\"\n",
    ")\n",
    "print(f\"Using {device} device\")"
   ]
  },
  {
   "cell_type": "markdown",
   "metadata": {},
   "source": [
    "# Load the training data"
   ]
  },
  {
   "cell_type": "code",
   "execution_count": 15,
   "metadata": {},
   "outputs": [],
   "source": [
    "with open('training_data.pickle','rb') as f:\n",
    "    training_data = pickle.load(f)"
   ]
  },
  {
   "cell_type": "code",
   "execution_count": 16,
   "metadata": {},
   "outputs": [],
   "source": [
    "class_to_ix = {\"Found\":0, \"Unfound\":1}\n",
    "all_letters = \"()ab~&|>\"\n",
    "\n",
    "vocab = ['<pad>'] + sorted(set([char for seq in all_letters for char in seq]))\n",
    "\n",
    "\n",
    "n_classes = len(class_to_ix)\n",
    "n_letters = len(all_letters)"
   ]
  },
  {
   "cell_type": "code",
   "execution_count": 17,
   "metadata": {},
   "outputs": [],
   "source": [
    "X = []\n",
    "Y = []\n",
    "embed_dim = len(vocab)\n",
    "embed = Embedding(len(vocab), embed_dim) # embedding_dim = len(vocab)\n",
    "for element in training_data:\n",
    "    input = [vocab.index(token) for token in element[0]]\n",
    "    input_tensor = torch.tensor(input, dtype=torch.int)\n",
    "    classification = class_to_ix[element[1]]\n",
    "    X.append(input_tensor)\n",
    "    output_tensor = torch.tensor(classification, dtype=torch.int)\n",
    "    Y.append(output_tensor)"
   ]
  },
  {
   "cell_type": "code",
   "execution_count": 18,
   "metadata": {},
   "outputs": [],
   "source": [
    "class TTPStyleDataset(Dataset):\n",
    "    def __init__(self, X,Y):\n",
    "        self.X = X\n",
    "        self.Y = Y\n",
    "\n",
    "    def __len__(self):\n",
    "        return len(self.X)\n",
    "\n",
    "    def __getitem__(self, idx):\n",
    "        if torch.is_tensor(idx):\n",
    "            idx = idx.tolist()\n",
    "        sample = [self.X[idx], self.Y[idx]]\n",
    "        return sample"
   ]
  },
  {
   "cell_type": "code",
   "execution_count": 19,
   "metadata": {},
   "outputs": [],
   "source": [
    "X_train, X_test, y_train, y_test = train_test_split(X, Y, test_size=0.2, random_state=42)\n",
    "\n",
    "batch_size = 16\n",
    "input_dataset = TTPStyleDataset(X_train,y_train)\n",
    "\n",
    "test_dataset = TTPStyleDataset(X_test,y_test)\n",
    "\n",
    "def my_collate_fn(data):\n",
    "    (xx,yy) = zip(*data)\n",
    "    x_lens = [len(x) for x in xx]\n",
    "    y_lens = [1 for y in yy]\n",
    "\n",
    "    xx_pad = pad_sequence(xx, batch_first=False, padding_value=0)\n",
    "    yy_pad = torch.tensor(yy)\n",
    "\n",
    "    return xx_pad, yy_pad, x_lens, y_lens\n",
    "    \n",
    "\n",
    "dataloader = DataLoader(input_dataset, shuffle=True, batch_size=batch_size, num_workers=0, collate_fn=my_collate_fn)\n",
    "test_dataloader = DataLoader(test_dataset, shuffle=True, batch_size=batch_size, num_workers=0, collate_fn=my_collate_fn)"
   ]
  },
  {
   "cell_type": "markdown",
   "metadata": {},
   "source": [
    "# Neural Network"
   ]
  },
  {
   "cell_type": "code",
   "execution_count": 20,
   "metadata": {},
   "outputs": [],
   "source": [
    "class SoftmaxRNN(nn.RNN):\n",
    "    def __init__(self, input_size, hidden_size, num_layers, nonlinearity, bias, batch_first, dropout, bidirectional, output_size):\n",
    "        super(SoftmaxRNN, self).__init__(input_size, hidden_size, num_layers, nonlinearity, bias, batch_first, dropout, bidirectional)\n",
    "        self.fc = nn.Linear(hidden_size, output_size)\n",
    "        \n",
    "    \n",
    "    def forward(self, x, h_0=None):\n",
    "        output, h = super(SoftmaxRNN, self).forward(x, h_0)\n",
    "        output, seq_len = pad_packed_sequence(output, batch_first=False)\n",
    "        output = self.fc(h[-1])\n",
    "        return output, h"
   ]
  },
  {
   "cell_type": "code",
   "execution_count": 21,
   "metadata": {},
   "outputs": [
    {
     "data": {
      "text/plain": [
       "SoftmaxRNN(\n",
       "  9, 128\n",
       "  (fc): Linear(in_features=128, out_features=2, bias=True)\n",
       ")"
      ]
     },
     "execution_count": 21,
     "metadata": {},
     "output_type": "execute_result"
    }
   ],
   "source": [
    "#input_size - The number of expected features in the input x\n",
    "rnn = SoftmaxRNN(input_size=embed_dim, hidden_size=128, num_layers=1, nonlinearity='relu', bias=True, batch_first=False, dropout=0.0, bidirectional=False, output_size=2)\n",
    "rnn.to(device)"
   ]
  },
  {
   "cell_type": "code",
   "execution_count": null,
   "metadata": {},
   "outputs": [
    {
     "name": "stdout",
     "output_type": "stream",
     "text": [
      "epoch: 0\n",
      "train loss: 0.716086  [   16/141120]\n",
      "train loss: 0.677070  [ 8016/141120]\n",
      "train loss: 0.678187  [16016/141120]\n",
      "train loss: 0.610904  [24016/141120]\n",
      "train loss: 0.616658  [32016/141120]\n",
      "train loss: 0.575241  [40016/141120]\n",
      "train loss: 0.563723  [48016/141120]\n",
      "train loss: 0.612464  [56016/141120]\n",
      "train loss: 0.475252  [64016/141120]\n",
      "train loss: 0.428484  [72016/141120]\n",
      "train loss: 0.518136  [80016/141120]\n",
      "train loss: 0.580194  [88016/141120]\n",
      "train loss: 0.751507  [96016/141120]\n",
      "train loss: 0.543724  [104016/141120]\n",
      "train loss: 0.616102  [112016/141120]\n",
      "train loss: 0.442388  [120016/141120]\n",
      "train loss: 0.484365  [128016/141120]\n",
      "train loss: 0.570755  [136016/141120]\n",
      "test loss: 0.576827\n",
      "epoch: 1\n",
      "train loss: 0.753969  [   16/141120]\n",
      "train loss: 0.483880  [ 8016/141120]\n",
      "train loss: 0.843346  [16016/141120]\n",
      "train loss: 0.523748  [24016/141120]\n",
      "train loss: 0.655251  [32016/141120]\n",
      "train loss: 0.441048  [40016/141120]\n",
      "train loss: 0.561925  [48016/141120]\n",
      "train loss: 0.551114  [56016/141120]\n",
      "train loss: 0.584617  [64016/141120]\n",
      "train loss: 0.538764  [72016/141120]\n",
      "train loss: 0.573693  [80016/141120]\n",
      "train loss: 0.394386  [88016/141120]\n",
      "train loss: 0.583140  [96016/141120]\n",
      "train loss: 0.556130  [104016/141120]\n",
      "train loss: 0.696672  [112016/141120]\n",
      "train loss: 0.676157  [120016/141120]\n",
      "train loss: 0.539777  [128016/141120]\n",
      "train loss: 0.746706  [136016/141120]\n",
      "test loss: 0.536199\n",
      "epoch: 2\n",
      "train loss: 0.378946  [   16/141120]\n",
      "train loss: 0.623103  [ 8016/141120]\n",
      "train loss: 0.857548  [16016/141120]\n",
      "train loss: 0.460970  [24016/141120]\n",
      "train loss: 0.551012  [32016/141120]\n",
      "train loss: 0.339436  [40016/141120]\n",
      "train loss: 0.676438  [48016/141120]\n",
      "train loss: 0.368313  [56016/141120]\n",
      "train loss: 0.542630  [64016/141120]\n",
      "train loss: 0.294217  [72016/141120]\n",
      "train loss: 0.358661  [80016/141120]\n",
      "train loss: 0.458274  [88016/141120]\n",
      "train loss: 0.236677  [96016/141120]\n",
      "train loss: 0.524265  [104016/141120]\n",
      "train loss: 0.256875  [112016/141120]\n",
      "train loss: 0.222136  [120016/141120]\n",
      "train loss: 0.310980  [128016/141120]\n",
      "train loss: 0.367490  [136016/141120]\n",
      "test loss: 0.328092\n",
      "epoch: 3\n",
      "train loss: 0.387666  [   16/141120]\n",
      "train loss: 0.090909  [ 8016/141120]\n",
      "train loss: 0.283344  [16016/141120]\n",
      "train loss: 0.275827  [24016/141120]\n",
      "train loss: 0.375935  [32016/141120]\n",
      "train loss: 0.333073  [40016/141120]\n"
     ]
    }
   ],
   "source": [
    "num_epochs = 10\n",
    "learning_rate = 0.01 # If you set this too high, it might explode. If too low, it might not learn\n",
    "optimizer = torch.optim.SGD(rnn.parameters(), lr=learning_rate)\n",
    "\n",
    "criterion = nn.CrossEntropyLoss()\n",
    "\n",
    "for epoch in range(num_epochs):\n",
    "    print(\"epoch: \"+str(epoch))\n",
    "    size = len(dataloader.dataset)\n",
    "    rnn.train()\n",
    "    for batch,(x_padded, y_padded, x_lens, y_lens) in enumerate(dataloader):\n",
    "\n",
    "        \n",
    "        rnn.zero_grad()\n",
    "        x_embed = embed(x_padded)\n",
    "        x_packed = pack_padded_sequence(x_embed, x_lens, batch_first=False, enforce_sorted=False)\n",
    "        x_packed = x_packed.to(device)\n",
    "        y_padded = y_padded.to(device)\n",
    "        output, hidden = rnn(x_packed)\n",
    "        output = torch.reshape(output, (batch_size,2))\n",
    "        \n",
    "        y_padded = torch.reshape(y_padded, (batch_size,))\n",
    "        y_padded = y_padded.long()\n",
    "        loss = criterion(output, y_padded)\n",
    "\n",
    "        loss.backward()\n",
    "        optimizer.step()\n",
    "        \n",
    "\n",
    "        if batch % 500 == 0:\n",
    "            x_s = np.shape(x_padded)[1]\n",
    "            loss, current = loss.item(), (batch + 1) * x_s\n",
    "            print(f\"train loss: {loss:>7f}  [{current:>5d}/{size:>5d}]\")\n",
    "\n",
    "\n",
    "\n",
    "    # Set the model to evaluation mode - important for batch normalization and dropout layers\n",
    "    # Unnecessary in this situation but added for best practices\n",
    "    rnn.eval()\n",
    "    size = len(test_dataloader.dataset)\n",
    "    num_batches = len(test_dataloader)\n",
    "    test_loss, correct = 0, 0\n",
    "\n",
    "    # Evaluating the model with torch.no_grad() ensures that no gradients are computed during test mode\n",
    "    # also serves to reduce unnecessary gradient computations and memory usage for tensors with requires_grad=True\n",
    "    with torch.no_grad():\n",
    "        for batch,(x_padded, y_padded, x_lens, y_lens) in enumerate(test_dataloader):\n",
    "            rnn.zero_grad()\n",
    "            x_embed = embed(x_padded)\n",
    "            x_packed = pack_padded_sequence(x_embed, x_lens, batch_first=False, enforce_sorted=False)\n",
    "            x_packed = x_packed.to(device)\n",
    "            y_padded = y_padded.to(device)\n",
    "            output, hidden = rnn(x_packed)\n",
    "            output = torch.reshape(output, (batch_size,2))\n",
    "            \n",
    "            y_padded = torch.reshape(y_padded, (batch_size,))\n",
    "            y_padded = y_padded.long()\n",
    "            loss += criterion(output, y_padded)\n",
    "        \n",
    "        #loss, current = loss, (batch + 1) * len(x_padded)\n",
    "        test_loss = loss/num_batches\n",
    "        print(f\"test loss: {test_loss:>7f}\")"
   ]
  },
  {
   "cell_type": "code",
   "execution_count": null,
   "metadata": {},
   "outputs": [],
   "source": []
  }
 ],
 "metadata": {
  "kernelspec": {
   "display_name": ".venv",
   "language": "python",
   "name": "python3"
  },
  "language_info": {
   "codemirror_mode": {
    "name": "ipython",
    "version": 3
   },
   "file_extension": ".py",
   "mimetype": "text/x-python",
   "name": "python",
   "nbconvert_exporter": "python",
   "pygments_lexer": "ipython3",
   "version": "3.10.12"
  }
 },
 "nbformat": 4,
 "nbformat_minor": 2
}
