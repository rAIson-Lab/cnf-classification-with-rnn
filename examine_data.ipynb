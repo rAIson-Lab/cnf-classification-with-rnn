{
 "cells": [
  {
   "cell_type": "code",
   "execution_count": 6,
   "metadata": {},
   "outputs": [],
   "source": [
    "import io\n",
    "import subprocess\n",
    "import pickle\n",
    "import copy\n",
    "import gzip\n",
    "import tqdm\n",
    "import re\n",
    "from itertools import islice"
   ]
  },
  {
   "cell_type": "code",
   "execution_count": 7,
   "metadata": {},
   "outputs": [],
   "source": [
    "with gzip.open('theorum.pickle.gzip','rb') as f:\n",
    "    theorem_gzip = pickle.load(f)\n"
   ]
  },
  {
   "cell_type": "markdown",
   "metadata": {},
   "source": [
    "# Length of rows and column\n",
    "Getting a sense of .gzip data"
   ]
  },
  {
   "cell_type": "code",
   "execution_count": 8,
   "metadata": {},
   "outputs": [
    {
     "name": "stdout",
     "output_type": "stream",
     "text": [
      "Rows: 493140\n",
      "Columns: 4\n",
      "(a).=>(a).\n",
      "fof('(a)',axiom,(a)). fof('(a)',conjecture,(a)).\n",
      "Found\n",
      "CompletedProcess(args=['/home/anmarch/source/eprover/PROVER/eprover', '--proof-object', 'f.tptp'], returncode=0, stdout=b\"# Initializing proof state\\n# Scanning for AC axioms\\n#\\n#cnf(i_0_1, plain, (a)).\\n#\\n# Proof found!\\n# SZS status Theorem\\n# SZS output start CNFRefutation\\nfof('(a)', conjecture, a, file('f.tptp', '(a)')).\\nfof('(a)', axiom, a, file('f.tptp', '(a)')).\\nfof(c_0_2, negated_conjecture, ~a, inference(fof_simplification,[status(thm)],[inference(assume_negation,[status(cth)],['(a)'])])).\\nfof(c_0_3, negated_conjecture, ~a, inference(fof_nnf,[status(thm)],[c_0_2])).\\ncnf(c_0_4, negated_conjecture, (~a), inference(split_conjunct,[status(thm)],[c_0_3])).\\ncnf(c_0_5, plain, (a), inference(split_conjunct,[status(thm)],['(a)'])).\\ncnf(c_0_6, negated_conjecture, ($false), inference(cn,[status(thm)],[inference(rw,[status(thm)],[c_0_4, c_0_5])]), ['proof']).\\n# SZS output end CNFRefutation\\n\", stderr=b'')\n"
     ]
    }
   ],
   "source": [
    "print(\"Rows:\", len(theorem_gzip))\n",
    "print(\"Columns:\", len(theorem_gzip[0]))\n",
    "print(theorem_gzip[0][0])\n",
    "print(theorem_gzip[0][1])\n",
    "print(theorem_gzip[0][2])\n",
    "print(theorem_gzip[0][3])"
   ]
  },
  {
   "cell_type": "markdown",
   "metadata": {},
   "source": [
    "# Cleanup Prep"
   ]
  },
  {
   "cell_type": "markdown",
   "metadata": {},
   "source": [
    "Write gzip to .txt file"
   ]
  },
  {
   "cell_type": "code",
   "execution_count": 9,
   "metadata": {},
   "outputs": [],
   "source": [
    "f = open(\"theorem.txt\", \"w\")\n",
    "#file.write(output)\n",
    "\n",
    "#Will later use len(theorem_gzip) instead of what is hardcoded\n",
    "for x in range(5):\n",
    "    for y in range(len(theorem_gzip[x])):      \n",
    "        if x == 0 and y == 0: #for the first line.\n",
    "            f.write(\"theorem #\" + str(x) + \"\\n\" + str(theorem_gzip[x][y]).replace(\"\\\\n\", \"\"))\n",
    "        elif x != 0 and y == 0: #for the rest of the lines.\n",
    "            f.write(\"\\ntheorem #\" + str(x) + \"\\n\" + str(theorem_gzip[x][y]).replace(\"\\\\n\", \"\"))\n",
    "        elif y == 1: #Adds newline to string because the theorum[x][1] doesn't have newlines.\n",
    "            f.write(\"\\n\" + str(theorem_gzip[x][y]).replace(\" \", \"\\n\"))\n",
    "        else: #Case to consider for other columns.\n",
    "            f.write(\"\\n\" + str(theorem_gzip[x][y]).replace(\"\\\\n\", \"\\n\"))\n",
    "f.close()"
   ]
  },
  {
   "cell_type": "markdown",
   "metadata": {},
   "source": [
    "Reading .txt file"
   ]
  },
  {
   "cell_type": "code",
   "execution_count": 10,
   "metadata": {},
   "outputs": [],
   "source": [
    "lines = []\n",
    "\n",
    "def fn_read_file(file):\n",
    "    with open(file, \"r\") as f:\n",
    "        return f.readlines()\n",
    "\n",
    "lines = fn_read_file(\"theorem.txt\")"
   ]
  },
  {
   "cell_type": "markdown",
   "metadata": {},
   "source": [
    "Deleting lines we don't need. Examples:\n",
    "* Lines containing .tptp\n",
    "* CompletedProces (args=['/home/user/..."
   ]
  },
  {
   "cell_type": "code",
   "execution_count": 11,
   "metadata": {},
   "outputs": [],
   "source": [
    "with open(\"theorem.txt\", \"w\") as f:\n",
    "    for line in lines:\n",
    "        #Problem: not able to remove the last string. \n",
    "        if (\"tptp\" not in line) and (\"#\\n\" != line) and (\"\\\", stderr=b\\'\\')\\n\" != line):\n",
    "            f.write(line)\n",
    "lines = fn_read_file(\"theorem.txt\")"
   ]
  },
  {
   "cell_type": "markdown",
   "metadata": {},
   "source": [
    "Grab axioms and conjectures"
   ]
  },
  {
   "cell_type": "code",
   "execution_count": 12,
   "metadata": {},
   "outputs": [],
   "source": [
    "axioms = []\n",
    "conjects = []\n",
    "with open(\"test.txt\", \"r\") as f:\n",
    "    for line in lines: \n",
    "        #Grabs axioms\n",
    "        if (\"fof(\\'(\" in line) and (\"conjecture\" not in line):\n",
    "            temp_axiom = \"\"  \n",
    "            for char in line[6:]:\n",
    "                if char == \")\":  # Stop collecting if reached closed parentheses\n",
    "                    break  \n",
    "                temp_axiom += char  # Append to temp_axiom\n",
    "            axioms.append(temp_axiom)  # Append full axiom \n",
    "        \n",
    "        #Grabs conjectures\n",
    "        if (\"fof(\\'(\" in line) and (\"conjecture\" in line):\n",
    "            temp_conject = \"\"\n",
    "            find_conjecture = re.search(r'\\b' + re.escape(\"conjecture\") + r'\\b', line)  # \\b is for word boundaries\n",
    "            for char in line[(find_conjecture.end() + 2):]:\n",
    "                if char == \")\":\n",
    "                    break\n",
    "                temp_conject += char\n",
    "            conjects.append(temp_conject)"
   ]
  }
 ],
 "metadata": {
  "kernelspec": {
   "display_name": "Python 3",
   "language": "python",
   "name": "python3"
  },
  "language_info": {
   "codemirror_mode": {
    "name": "ipython",
    "version": 3
   },
   "file_extension": ".py",
   "mimetype": "text/x-python",
   "name": "python",
   "nbconvert_exporter": "python",
   "pygments_lexer": "ipython3",
   "version": "3.12.6"
  }
 },
 "nbformat": 4,
 "nbformat_minor": 2
}
