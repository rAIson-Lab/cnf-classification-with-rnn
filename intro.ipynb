{
 "cells": [
  {
   "cell_type": "code",
   "execution_count": 2,
   "metadata": {},
   "outputs": [],
   "source": [
    "import io\n",
    "import subprocess"
   ]
  },
  {
   "cell_type": "markdown",
   "metadata": {},
   "source": [
    "# TPTP Formatting\n",
    "fof(name,formula_type,statement)\n",
    "- name is the name of the formula\n",
    "- formula_type is either axiom or conjecture, for our purposes.\n",
    "- Axioms are facts\n",
    "- Conjectures are what we want to prove/disprove\n",
    "\n",
    "\n",
    "Extra TPTP notes:\n",
    "- ! is the universal quantifier\n",
    "- ? is the existential quantifier\n",
    "- variables are denoted with capital letters\n",
    "- func(C) is a function with variable C\n",
    "- => is the implication operator\n",
    "- & is AND\n",
    "- | is OR\n",
    "- ~ is NEGATION\n",
    "- <=> is EQUIVALENCE\n",
    "- = is EQUALITY\n",
    "- != is INEQUALITY"
   ]
  },
  {
   "cell_type": "code",
   "execution_count": 3,
   "metadata": {},
   "outputs": [],
   "source": [
    "class Axiom:\n",
    "    def __init__(self,name,statement):\n",
    "        self.name = name\n",
    "        self.statement = statement\n",
    "    def __str__(self):\n",
    "        return \"fof(\"+str(self.name)+\",axiom,\"+str(self.statement)+\").\"\n",
    "\n",
    "class Conjecture:\n",
    "    def __init__(self,name,statement):\n",
    "        self.name = name\n",
    "        self.statement = statement\n",
    "    def __str__(self):\n",
    "        return \"fof(\"+str(self.name)+\",conjecture,\"+str(self.statement)+\").\""
   ]
  },
  {
   "cell_type": "code",
   "execution_count": 21,
   "metadata": {},
   "outputs": [
    {
     "name": "stdout",
     "output_type": "stream",
     "text": [
      "# Initializing proof state\n",
      "# Scanning for AC axioms\n",
      "#\n",
      "#cnf(i_0_1, plain, (a)).\n",
      "#\n",
      "#cnf(i_0_2, plain, (b)).\n",
      "##\n",
      "# Proof found!\n",
      "# SZS status Theorem\n",
      "# SZS output start CNFRefutation\n",
      "fof(d, conjecture, b, file('f.tptp', d)).\n",
      "fof(b, axiom, b, file('f.tptp', b)).\n",
      "fof(c_0_2, negated_conjecture, ~b, inference(fof_simplification,[status(thm)],[inference(assume_negation,[status(cth)],[d])])).\n",
      "fof(c_0_3, negated_conjecture, ~b, inference(fof_nnf,[status(thm)],[c_0_2])).\n",
      "cnf(c_0_4, negated_conjecture, (~b), inference(split_conjunct,[status(thm)],[c_0_3])).\n",
      "cnf(c_0_5, plain, (b), inference(split_conjunct,[status(thm)],[b])).\n",
      "cnf(c_0_6, negated_conjecture, ($false), inference(cn,[status(thm)],[inference(rw,[status(thm)],[c_0_4, c_0_5])]), ['proof']).\n",
      "# SZS output end CNFRefutation\n",
      "\n"
     ]
    }
   ],
   "source": [
    "theorum = str(Axiom(\"a\",\"=>a\"))+str(Axiom(\"b\",\"b\"))+str(Axiom(\"c\",\"b => a\"))+str(Conjecture(\"d\",\"b\"))\n",
    "\n",
    "file_path = \"f.tptp\"\n",
    "with io.open(file_path,'w',encoding='utf-8') as f:\n",
    "    f.write(theorum)\n",
    "\n",
    "result = subprocess.run([\"/home/anmarch/source/eprover/PROVER/eprover\", \"--proof-object\", str(file_path)], capture_output=True)\n",
    "output = result.stdout.decode()\n",
    "\n",
    "if result.returncode == 0:\n",
    "    #proof found\n",
    "    print(output)\n",
    "    pass\n",
    "\n",
    "elif result.returncode == 1:\n",
    "    #proof not found\n",
    "    print(output)\n",
    "    pass\n",
    "\n",
    "else:\n",
    "    #something else happened\n",
    "    print(result)\n",
    "    raise Exception(\"Something unexpected occured\")"
   ]
  },
  {
   "cell_type": "code",
   "execution_count": 16,
   "metadata": {},
   "outputs": [
    {
     "name": "stdout",
     "output_type": "stream",
     "text": [
      "fof(c, conjecture, a, file('f.tptp', c)).\n",
      "fof(a, axiom, a, file('f.tptp', a)).\n",
      "fof(c_0_2, negated_conjecture, ~a, inference(fof_simplification,[status(thm)],[inference(assume_negation,[status(cth)],[c])])).\n",
      "fof(c_0_3, negated_conjecture, ~a, inference(fof_nnf,[status(thm)],[c_0_2])).\n",
      "cnf(c_0_4, negated_conjecture, (~a), inference(split_conjunct,[status(thm)],[c_0_3])).\n",
      "cnf(c_0_5, plain, (a), inference(split_conjunct,[status(thm)],[a])).\n",
      "cnf(c_0_6, negated_conjecture, ($false), inference(cn,[status(thm)],[inference(rw,[status(thm)],[c_0_4, c_0_5])]), ['proof']).\n",
      "\n"
     ]
    }
   ],
   "source": [
    "parsed_result = \"\"\n",
    "for line in output.split('\\n'):\n",
    "    if len(line) > 0 and line[0] == '#':\n",
    "        pass\n",
    "    else:\n",
    "        print(line)"
   ]
  }
 ],
 "metadata": {
  "kernelspec": {
   "display_name": ".venv",
   "language": "python",
   "name": "python3"
  },
  "language_info": {
   "codemirror_mode": {
    "name": "ipython",
    "version": 3
   },
   "file_extension": ".py",
   "mimetype": "text/x-python",
   "name": "python",
   "nbconvert_exporter": "python",
   "pygments_lexer": "ipython3",
   "version": "3.10.12"
  }
 },
 "nbformat": 4,
 "nbformat_minor": 2
}
